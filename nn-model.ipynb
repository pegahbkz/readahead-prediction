{
 "cells": [
  {
   "cell_type": "code",
   "execution_count": 47,
   "id": "6ebeeb7c-e716-4c3a-b0d6-31adbdc08d49",
   "metadata": {
    "tags": []
   },
   "outputs": [],
   "source": [
    "import pandas as pd\n",
    "import numpy as np"
   ]
  },
  {
   "cell_type": "code",
   "execution_count": 62,
   "id": "c40b8ef5-1c7d-41e5-b954-052f1acac17a",
   "metadata": {
    "tags": []
   },
   "outputs": [],
   "source": [
    "data = pd.read_csv(\"FINALFINAL.csv\", low_memory=False)"
   ]
  },
  {
   "cell_type": "code",
   "execution_count": 63,
   "id": "125520b3-64a3-4398-b39c-108158f5e238",
   "metadata": {
    "tags": []
   },
   "outputs": [
    {
     "data": {
      "text/html": [
       "<div>\n",
       "<style scoped>\n",
       "    .dataframe tbody tr th:only-of-type {\n",
       "        vertical-align: middle;\n",
       "    }\n",
       "\n",
       "    .dataframe tbody tr th {\n",
       "        vertical-align: top;\n",
       "    }\n",
       "\n",
       "    .dataframe thead th {\n",
       "        text-align: right;\n",
       "    }\n",
       "</style>\n",
       "<table border=\"1\" class=\"dataframe\">\n",
       "  <thead>\n",
       "    <tr style=\"text-align: right;\">\n",
       "      <th></th>\n",
       "      <th>time_elapsed</th>\n",
       "      <th>ino</th>\n",
       "      <th>state</th>\n",
       "      <th>flag</th>\n",
       "      <th>ops_per_sec</th>\n",
       "      <th>distance_from_mean</th>\n",
       "      <th>cumulative_time_elapsed</th>\n",
       "      <th>time_difference</th>\n",
       "      <th>workload_type</th>\n",
       "    </tr>\n",
       "  </thead>\n",
       "  <tbody>\n",
       "    <tr>\n",
       "      <th>0</th>\n",
       "      <td>-0.187062</td>\n",
       "      <td>0.432535</td>\n",
       "      <td>-0.033807</td>\n",
       "      <td>-0.003553</td>\n",
       "      <td>0.603335</td>\n",
       "      <td>-0.187062</td>\n",
       "      <td>0.496030</td>\n",
       "      <td>-0.002248</td>\n",
       "      <td>4</td>\n",
       "    </tr>\n",
       "    <tr>\n",
       "      <th>1</th>\n",
       "      <td>-0.181245</td>\n",
       "      <td>-0.431407</td>\n",
       "      <td>-0.033807</td>\n",
       "      <td>-0.003554</td>\n",
       "      <td>-1.003513</td>\n",
       "      <td>-0.181245</td>\n",
       "      <td>-1.607346</td>\n",
       "      <td>0.004003</td>\n",
       "      <td>2</td>\n",
       "    </tr>\n",
       "    <tr>\n",
       "      <th>2</th>\n",
       "      <td>-0.187059</td>\n",
       "      <td>-0.431407</td>\n",
       "      <td>-0.033807</td>\n",
       "      <td>-0.003554</td>\n",
       "      <td>0.540562</td>\n",
       "      <td>-0.187059</td>\n",
       "      <td>0.417695</td>\n",
       "      <td>-0.006696</td>\n",
       "      <td>2</td>\n",
       "    </tr>\n",
       "    <tr>\n",
       "      <th>3</th>\n",
       "      <td>-0.187045</td>\n",
       "      <td>0.432535</td>\n",
       "      <td>-0.033807</td>\n",
       "      <td>-0.003553</td>\n",
       "      <td>0.345057</td>\n",
       "      <td>-0.187045</td>\n",
       "      <td>0.511771</td>\n",
       "      <td>-0.079333</td>\n",
       "      <td>4</td>\n",
       "    </tr>\n",
       "    <tr>\n",
       "      <th>4</th>\n",
       "      <td>-0.187096</td>\n",
       "      <td>-0.723851</td>\n",
       "      <td>-0.033807</td>\n",
       "      <td>-0.003553</td>\n",
       "      <td>1.553668</td>\n",
       "      <td>-0.187096</td>\n",
       "      <td>0.514653</td>\n",
       "      <td>-0.000118</td>\n",
       "      <td>4</td>\n",
       "    </tr>\n",
       "    <tr>\n",
       "      <th>...</th>\n",
       "      <td>...</td>\n",
       "      <td>...</td>\n",
       "      <td>...</td>\n",
       "      <td>...</td>\n",
       "      <td>...</td>\n",
       "      <td>...</td>\n",
       "      <td>...</td>\n",
       "      <td>...</td>\n",
       "      <td>...</td>\n",
       "    </tr>\n",
       "    <tr>\n",
       "      <th>1425427</th>\n",
       "      <td>-0.186935</td>\n",
       "      <td>0.432535</td>\n",
       "      <td>-0.033807</td>\n",
       "      <td>-0.003553</td>\n",
       "      <td>-0.345303</td>\n",
       "      <td>-0.186935</td>\n",
       "      <td>0.539052</td>\n",
       "      <td>0.000134</td>\n",
       "      <td>4</td>\n",
       "    </tr>\n",
       "    <tr>\n",
       "      <th>1425428</th>\n",
       "      <td>-0.184375</td>\n",
       "      <td>0.432535</td>\n",
       "      <td>-0.033807</td>\n",
       "      <td>-0.003553</td>\n",
       "      <td>-0.975072</td>\n",
       "      <td>-0.184375</td>\n",
       "      <td>0.538385</td>\n",
       "      <td>0.001783</td>\n",
       "      <td>4</td>\n",
       "    </tr>\n",
       "    <tr>\n",
       "      <th>1425429</th>\n",
       "      <td>-0.186925</td>\n",
       "      <td>0.432535</td>\n",
       "      <td>-0.033807</td>\n",
       "      <td>-0.003553</td>\n",
       "      <td>-0.375921</td>\n",
       "      <td>-0.186925</td>\n",
       "      <td>0.530154</td>\n",
       "      <td>0.000138</td>\n",
       "      <td>4</td>\n",
       "    </tr>\n",
       "    <tr>\n",
       "      <th>1425430</th>\n",
       "      <td>-0.185374</td>\n",
       "      <td>0.432535</td>\n",
       "      <td>-0.033807</td>\n",
       "      <td>-0.003553</td>\n",
       "      <td>-0.944959</td>\n",
       "      <td>-0.185374</td>\n",
       "      <td>0.489804</td>\n",
       "      <td>0.001102</td>\n",
       "      <td>4</td>\n",
       "    </tr>\n",
       "    <tr>\n",
       "      <th>1425431</th>\n",
       "      <td>-0.089795</td>\n",
       "      <td>0.432535</td>\n",
       "      <td>-0.033807</td>\n",
       "      <td>-0.003553</td>\n",
       "      <td>-1.027227</td>\n",
       "      <td>-0.089795</td>\n",
       "      <td>0.508519</td>\n",
       "      <td>0.067528</td>\n",
       "      <td>4</td>\n",
       "    </tr>\n",
       "  </tbody>\n",
       "</table>\n",
       "<p>1425432 rows × 9 columns</p>\n",
       "</div>"
      ],
      "text/plain": [
       "         time_elapsed       ino     state      flag  ops_per_sec  \\\n",
       "0           -0.187062  0.432535 -0.033807 -0.003553     0.603335   \n",
       "1           -0.181245 -0.431407 -0.033807 -0.003554    -1.003513   \n",
       "2           -0.187059 -0.431407 -0.033807 -0.003554     0.540562   \n",
       "3           -0.187045  0.432535 -0.033807 -0.003553     0.345057   \n",
       "4           -0.187096 -0.723851 -0.033807 -0.003553     1.553668   \n",
       "...               ...       ...       ...       ...          ...   \n",
       "1425427     -0.186935  0.432535 -0.033807 -0.003553    -0.345303   \n",
       "1425428     -0.184375  0.432535 -0.033807 -0.003553    -0.975072   \n",
       "1425429     -0.186925  0.432535 -0.033807 -0.003553    -0.375921   \n",
       "1425430     -0.185374  0.432535 -0.033807 -0.003553    -0.944959   \n",
       "1425431     -0.089795  0.432535 -0.033807 -0.003553    -1.027227   \n",
       "\n",
       "         distance_from_mean  cumulative_time_elapsed  time_difference  \\\n",
       "0                 -0.187062                 0.496030        -0.002248   \n",
       "1                 -0.181245                -1.607346         0.004003   \n",
       "2                 -0.187059                 0.417695        -0.006696   \n",
       "3                 -0.187045                 0.511771        -0.079333   \n",
       "4                 -0.187096                 0.514653        -0.000118   \n",
       "...                     ...                      ...              ...   \n",
       "1425427           -0.186935                 0.539052         0.000134   \n",
       "1425428           -0.184375                 0.538385         0.001783   \n",
       "1425429           -0.186925                 0.530154         0.000138   \n",
       "1425430           -0.185374                 0.489804         0.001102   \n",
       "1425431           -0.089795                 0.508519         0.067528   \n",
       "\n",
       "         workload_type  \n",
       "0                    4  \n",
       "1                    2  \n",
       "2                    2  \n",
       "3                    4  \n",
       "4                    4  \n",
       "...                ...  \n",
       "1425427              4  \n",
       "1425428              4  \n",
       "1425429              4  \n",
       "1425430              4  \n",
       "1425431              4  \n",
       "\n",
       "[1425432 rows x 9 columns]"
      ]
     },
     "execution_count": 63,
     "metadata": {},
     "output_type": "execute_result"
    }
   ],
   "source": [
    "data"
   ]
  },
  {
   "cell_type": "code",
   "execution_count": 64,
   "id": "3825ccc3-777a-4c11-b59c-75da60386d1a",
   "metadata": {
    "tags": []
   },
   "outputs": [],
   "source": [
    "import tensorflow as tf\n",
    "from tensorflow import keras\n",
    "import numpy as np\n",
    "import matplotlib.pyplot as plt"
   ]
  },
  {
   "cell_type": "code",
   "execution_count": 65,
   "id": "eb5613dd-8a2b-4a86-9946-978f7f9e5aa9",
   "metadata": {
    "tags": []
   },
   "outputs": [],
   "source": [
    "from sklearn.model_selection import train_test_split\n",
    "\n",
    "dropdata = ['workload_type']\n",
    "\n",
    "x = data.drop(dropdata , axis=1)\n",
    "\n",
    "y = data['workload_type']\n",
    "\n",
    "X_train, X_test, y_train, y_test = train_test_split(x, y, test_size=0.2)\n",
    "\n",
    "train = X_train.join(y_train)\n",
    "\n",
    "test = X_test.join(y_test)"
   ]
  },
  {
   "cell_type": "code",
   "execution_count": 66,
   "id": "4bd56bc4-6e92-4de1-8025-f669070d6d58",
   "metadata": {
    "tags": []
   },
   "outputs": [
    {
     "name": "stdout",
     "output_type": "stream",
     "text": [
      "(1140345, 9)\n",
      "(1140345, 9)\n"
     ]
    }
   ],
   "source": [
    "print(train.shape)\n",
    "print(train.shape)"
   ]
  },
  {
   "cell_type": "code",
   "execution_count": 67,
   "id": "d73c99fd-f472-4fcb-9992-c6bb7e957269",
   "metadata": {
    "tags": []
   },
   "outputs": [
    {
     "name": "stdout",
     "output_type": "stream",
     "text": [
      "Model: \"sequential_4\"\n",
      "_________________________________________________________________\n",
      " Layer (type)                Output Shape              Param #   \n",
      "=================================================================\n",
      " flatten_4 (Flatten)         (None, 8)                 0         \n",
      "                                                                 \n",
      " dense_12 (Dense)            (None, 300)               2700      \n",
      "                                                                 \n",
      " dense_13 (Dense)            (None, 100)               30100     \n",
      "                                                                 \n",
      " dense_14 (Dense)            (None, 10)                1010      \n",
      "                                                                 \n",
      "=================================================================\n",
      "Total params: 33810 (132.07 KB)\n",
      "Trainable params: 33810 (132.07 KB)\n",
      "Non-trainable params: 0 (0.00 Byte)\n",
      "_________________________________________________________________\n",
      "None\n"
     ]
    }
   ],
   "source": [
    "\n",
    "model = keras.models.Sequential([\n",
    "    keras.layers.Flatten(input_shape=[8]),\n",
    "    keras.layers.Dense(300, activation=\"relu\"),\n",
    "    keras.layers.Dense(100, activation=\"relu\"),\n",
    "    keras.layers.Dense(10, activation=\"softmax\")\n",
    "])\n",
    "print(model.summary())"
   ]
  },
  {
   "cell_type": "code",
   "execution_count": 68,
   "id": "17224058-2998-417d-abbd-c0e031b40357",
   "metadata": {
    "tags": []
   },
   "outputs": [
    {
     "name": "stdout",
     "output_type": "stream",
     "text": [
      "Epoch 1/10\n",
      "35636/35636 [==============================] - 47s 1ms/step - loss: 0.0805 - accuracy: 0.9763 - val_loss: 0.0517 - val_accuracy: 0.9840\n",
      "Epoch 2/10\n",
      "35636/35636 [==============================] - 45s 1ms/step - loss: 0.0451 - accuracy: 0.9850 - val_loss: 0.0384 - val_accuracy: 0.9868\n",
      "Epoch 3/10\n",
      "35636/35636 [==============================] - 46s 1ms/step - loss: 0.0368 - accuracy: 0.9869 - val_loss: 0.0315 - val_accuracy: 0.9895\n",
      "Epoch 4/10\n",
      "35636/35636 [==============================] - 51s 1ms/step - loss: 0.0314 - accuracy: 0.9885 - val_loss: 0.0260 - val_accuracy: 0.9913\n",
      "Epoch 5/10\n",
      "35636/35636 [==============================] - 56s 2ms/step - loss: 0.0270 - accuracy: 0.9900 - val_loss: 0.0235 - val_accuracy: 0.9906\n",
      "Epoch 6/10\n",
      "35636/35636 [==============================] - 45s 1ms/step - loss: 0.0235 - accuracy: 0.9915 - val_loss: 0.0226 - val_accuracy: 0.9942\n",
      "Epoch 7/10\n",
      "35636/35636 [==============================] - 44s 1ms/step - loss: 0.0209 - accuracy: 0.9928 - val_loss: 0.0183 - val_accuracy: 0.9931\n",
      "Epoch 8/10\n",
      "35636/35636 [==============================] - 46s 1ms/step - loss: 0.0188 - accuracy: 0.9937 - val_loss: 0.0166 - val_accuracy: 0.9954\n",
      "Epoch 9/10\n",
      "35636/35636 [==============================] - 50s 1ms/step - loss: 0.0177 - accuracy: 0.9942 - val_loss: 0.0124 - val_accuracy: 0.9964\n",
      "Epoch 10/10\n",
      "35636/35636 [==============================] - 44s 1ms/step - loss: 0.0160 - accuracy: 0.9948 - val_loss: 0.0156 - val_accuracy: 0.9941\n"
     ]
    }
   ],
   "source": [
    "model.compile(loss=\"sparse_categorical_crossentropy\",\n",
    "              optimizer=\"sgd\",\n",
    "              metrics=[\"accuracy\"])\n",
    "history = model.fit(X_train, y_train, epochs=10, \n",
    "                    validation_data=(X_test, y_test))"
   ]
  },
  {
   "cell_type": "code",
   "execution_count": null,
   "id": "c126bef6-bf7a-4a0b-b142-5f5000c173fa",
   "metadata": {},
   "outputs": [],
   "source": []
  }
 ],
 "metadata": {
  "kernelspec": {
   "display_name": "Python 3 (ipykernel)",
   "language": "python",
   "name": "python3"
  },
  "language_info": {
   "codemirror_mode": {
    "name": "ipython",
    "version": 3
   },
   "file_extension": ".py",
   "mimetype": "text/x-python",
   "name": "python",
   "nbconvert_exporter": "python",
   "pygments_lexer": "ipython3",
   "version": "3.11.4"
  }
 },
 "nbformat": 4,
 "nbformat_minor": 5
}
