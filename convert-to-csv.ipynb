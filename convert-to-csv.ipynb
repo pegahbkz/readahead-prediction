{
 "cells": [
  {
   "cell_type": "code",
   "execution_count": 1,
   "id": "ae9fa4ae-e288-4292-a955-a80c4a076212",
   "metadata": {
    "tags": []
   },
   "outputs": [
    {
     "name": "stdout",
     "output_type": "stream",
     "text": [
      "Conversion complete. CSV file saved as rseq.csv\n"
     ]
    }
   ],
   "source": [
    "import csv\n",
    "\n",
    "# Define the input and output file paths\n",
    "input_file = 'rseq-processed.txt'\n",
    "output_file = 'rseq.csv'\n",
    "\n",
    "# Open the input and output files\n",
    "with open(input_file, 'r') as txt_file, open(output_file, 'w', newline='') as csv_file:\n",
    "    # Create a CSV writer object\n",
    "    csv_writer = csv.writer(csv_file)\n",
    "    \n",
    "    # Read each line from the text file\n",
    "    for line in txt_file:\n",
    "        # Split the line into a list of numbers using space as the delimiter\n",
    "        numbers = line.strip().split()\n",
    "        \n",
    "        # Write the list of numbers as a row in the CSV file\n",
    "        csv_writer.writerow(numbers)\n",
    "\n",
    "print(f'Conversion complete. CSV file saved as {output_file}')\n"
   ]
  },
  {
   "cell_type": "code",
   "execution_count": 2,
   "id": "d0e99d80-4186-4991-a11c-281ea3c82add",
   "metadata": {
    "tags": []
   },
   "outputs": [
    {
     "name": "stdout",
     "output_type": "stream",
     "text": [
      "Conversion complete. CSV file saved as rreverse.csv\n"
     ]
    }
   ],
   "source": [
    "import csv\n",
    "\n",
    "# Define the input and output file paths\n",
    "input_file = 'rreverse-processed.txt'\n",
    "output_file = 'rreverse.csv'\n",
    "\n",
    "# Open the input and output files\n",
    "with open(input_file, 'r') as txt_file, open(output_file, 'w', newline='') as csv_file:\n",
    "    # Create a CSV writer object\n",
    "    csv_writer = csv.writer(csv_file)\n",
    "    \n",
    "    # Read each line from the text file\n",
    "    for line in txt_file:\n",
    "        # Split the line into a list of numbers using space as the delimiter\n",
    "        numbers = line.strip().split()\n",
    "        \n",
    "        # Write the list of numbers as a row in the CSV file\n",
    "        csv_writer.writerow(numbers)\n",
    "\n",
    "print(f'Conversion complete. CSV file saved as {output_file}')\n"
   ]
  },
  {
   "cell_type": "code",
   "execution_count": 3,
   "id": "7c8e785d-7b29-442c-9833-6d6b03afc259",
   "metadata": {
    "tags": []
   },
   "outputs": [
    {
     "name": "stdout",
     "output_type": "stream",
     "text": [
      "Conversion complete. CSV file saved as rrandom.csv\n"
     ]
    }
   ],
   "source": [
    "import csv\n",
    "\n",
    "# Define the input and output file paths\n",
    "input_file = 'rrandom-processed.txt'\n",
    "output_file = 'rrandom.csv'\n",
    "\n",
    "# Open the input and output files\n",
    "with open(input_file, 'r') as txt_file, open(output_file, 'w', newline='') as csv_file:\n",
    "    # Create a CSV writer object\n",
    "    csv_writer = csv.writer(csv_file)\n",
    "    \n",
    "    # Read each line from the text file\n",
    "    for line in txt_file:\n",
    "        # Split the line into a list of numbers using space as the delimiter\n",
    "        numbers = line.strip().split()\n",
    "        \n",
    "        # Write the list of numbers as a row in the CSV file\n",
    "        csv_writer.writerow(numbers)\n",
    "\n",
    "print(f'Conversion complete. CSV file saved as {output_file}')\n"
   ]
  },
  {
   "cell_type": "code",
   "execution_count": 4,
   "id": "8e10c474-3fa3-4c3c-8799-3ebc9bb12175",
   "metadata": {
    "tags": []
   },
   "outputs": [
    {
     "name": "stdout",
     "output_type": "stream",
     "text": [
      "Conversion complete. CSV file saved as rrwr.csv\n"
     ]
    }
   ],
   "source": [
    "import csv\n",
    "\n",
    "# Define the input and output file paths\n",
    "input_file = 'rrwr-processed.txt'\n",
    "output_file = 'rrwr.csv'\n",
    "\n",
    "# Open the input and output files\n",
    "with open(input_file, 'r') as txt_file, open(output_file, 'w', newline='') as csv_file:\n",
    "    # Create a CSV writer object\n",
    "    csv_writer = csv.writer(csv_file)\n",
    "    \n",
    "    # Read each line from the text file\n",
    "    for line in txt_file:\n",
    "        # Split the line into a list of numbers using space as the delimiter\n",
    "        numbers = line.strip().split()\n",
    "        \n",
    "        # Write the list of numbers as a row in the CSV file\n",
    "        csv_writer.writerow(numbers)\n",
    "\n",
    "print(f'Conversion complete. CSV file saved as {output_file}')\n"
   ]
  },
  {
   "cell_type": "code",
   "execution_count": null,
   "id": "ca1c69ed-4cd2-425f-a246-e633877d83a8",
   "metadata": {},
   "outputs": [],
   "source": []
  }
 ],
 "metadata": {
  "kernelspec": {
   "display_name": "Python 3 (ipykernel)",
   "language": "python",
   "name": "python3"
  },
  "language_info": {
   "codemirror_mode": {
    "name": "ipython",
    "version": 3
   },
   "file_extension": ".py",
   "mimetype": "text/x-python",
   "name": "python",
   "nbconvert_exporter": "python",
   "pygments_lexer": "ipython3",
   "version": "3.11.4"
  }
 },
 "nbformat": 4,
 "nbformat_minor": 5
}
