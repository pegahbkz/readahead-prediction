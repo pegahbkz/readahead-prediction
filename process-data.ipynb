{
 "cells": [
  {
   "cell_type": "code",
   "execution_count": 7,
   "id": "3ef3f997-ebf3-45f4-a01f-7871dc1b10cc",
   "metadata": {
    "tags": []
   },
   "outputs": [
    {
     "name": "stdout",
     "output_type": "stream",
     "text": [
      "Processing complete. Numbers extracted to: rseq-processed.txt\n"
     ]
    }
   ],
   "source": [
    "import re\n",
    "\n",
    "# Function to process each line\n",
    "def process_line(line):\n",
    "    # Find all numbers in the line\n",
    "    numbers = re.findall(r'\\d+', line)\n",
    "    # Join numbers with a space and return\n",
    "    return ' '.join(numbers)\n",
    "\n",
    "# Path to your input file\n",
    "input_file_path = 'rseq.txt'\n",
    "# Path to your output file\n",
    "output_file_path = 'rseq-processed.txt'\n",
    "\n",
    "# Open the input file and read lines\n",
    "with open(input_file_path, 'r') as input_file:\n",
    "    lines = input_file.readlines()\n",
    "\n",
    "# Process each line and write to the output file\n",
    "with open(output_file_path, 'w') as output_file:\n",
    "    for line in lines:\n",
    "        processed_line = process_line(line)\n",
    "        output_file.write(processed_line + '\\n')\n",
    "\n",
    "print(\"Processing complete. Numbers extracted to:\", output_file_path)\n"
   ]
  },
  {
   "cell_type": "code",
   "execution_count": 8,
   "id": "e7402e21-f18f-4fc3-8e96-256b2ab96c2c",
   "metadata": {
    "tags": []
   },
   "outputs": [
    {
     "name": "stdout",
     "output_type": "stream",
     "text": [
      "Processing complete. Numbers extracted to: rrandom-processed.txt\n"
     ]
    }
   ],
   "source": [
    "import re\n",
    "\n",
    "# Function to process each line\n",
    "def process_line(line):\n",
    "    # Find all numbers in the line\n",
    "    numbers = re.findall(r'\\d+', line)\n",
    "    # Join numbers with a space and return\n",
    "    return ' '.join(numbers)\n",
    "\n",
    "# Path to your input file\n",
    "input_file_path = 'rrandom.txt'\n",
    "# Path to your output file\n",
    "output_file_path = 'rrandom-processed.txt'\n",
    "\n",
    "# Open the input file and read lines\n",
    "with open(input_file_path, 'r') as input_file:\n",
    "    lines = input_file.readlines()\n",
    "\n",
    "# Process each line and write to the output file\n",
    "with open(output_file_path, 'w') as output_file:\n",
    "    for line in lines:\n",
    "        processed_line = process_line(line)\n",
    "        output_file.write(processed_line + '\\n')\n",
    "\n",
    "print(\"Processing complete. Numbers extracted to:\", output_file_path)\n"
   ]
  },
  {
   "cell_type": "code",
   "execution_count": 9,
   "id": "3e1970c8-e9ed-4d3a-89de-44591fc5255b",
   "metadata": {
    "tags": []
   },
   "outputs": [
    {
     "name": "stdout",
     "output_type": "stream",
     "text": [
      "Processing complete. Numbers extracted to: rreverse-processed.txt\n"
     ]
    }
   ],
   "source": [
    "import re\n",
    "\n",
    "# Function to process each line\n",
    "def process_line(line):\n",
    "    # Find all numbers in the line\n",
    "    numbers = re.findall(r'\\d+', line)\n",
    "    # Join numbers with a space and return\n",
    "    return ' '.join(numbers)\n",
    "\n",
    "# Path to your input file\n",
    "input_file_path = 'rreverse.txt'\n",
    "# Path to your output file\n",
    "output_file_path = 'rreverse-processed.txt'\n",
    "\n",
    "# Open the input file and read lines\n",
    "with open(input_file_path, 'r') as input_file:\n",
    "    lines = input_file.readlines()\n",
    "\n",
    "# Process each line and write to the output file\n",
    "with open(output_file_path, 'w') as output_file:\n",
    "    for line in lines:\n",
    "        processed_line = process_line(line)\n",
    "        output_file.write(processed_line + '\\n')\n",
    "\n",
    "print(\"Processing complete. Numbers extracted to:\", output_file_path)\n"
   ]
  },
  {
   "cell_type": "code",
   "execution_count": 10,
   "id": "fb77924f-611c-4c60-834b-25d5ea02b61a",
   "metadata": {
    "tags": []
   },
   "outputs": [
    {
     "name": "stdout",
     "output_type": "stream",
     "text": [
      "Processing complete. Numbers extracted to: rrwr-processed.txt\n"
     ]
    }
   ],
   "source": [
    "import re\n",
    "\n",
    "# Function to process each line\n",
    "def process_line(line):\n",
    "    # Find all numbers in the line\n",
    "    numbers = re.findall(r'\\d+', line)\n",
    "    # Join numbers with a space and return\n",
    "    return ' '.join(numbers)\n",
    "\n",
    "# Path to your input file\n",
    "input_file_path = 'rrwr.txt'\n",
    "# Path to your output file\n",
    "output_file_path = 'rrwr-processed.txt'\n",
    "\n",
    "# Open the input file and read rseq-processedlines\n",
    "with open(input_file_path, 'r') as input_file:\n",
    "    lines = input_file.readlines()\n",
    "\n",
    "# Process each line and write to the output file\n",
    "with open(output_file_path, 'w') as output_file:\n",
    "    for line in lines:\n",
    "        processed_line = process_line(line)\n",
    "        output_file.write(processed_line + '\\n')\n",
    "\n",
    "print(\"Processing complete. Numbers extracted to:\", output_file_path)\n"
   ]
  },
  {
   "cell_type": "code",
   "execution_count": null,
   "id": "ba9c83fc-c79d-4b85-ba96-dbf8dedbbfa3",
   "metadata": {},
   "outputs": [],
   "source": []
  }
 ],
 "metadata": {
  "kernelspec": {
   "display_name": "Python 3 (ipykernel)",
   "language": "python",
   "name": "python3"
  },
  "language_info": {
   "codemirror_mode": {
    "name": "ipython",
    "version": 3
   },
   "file_extension": ".py",
   "mimetype": "text/x-python",
   "name": "python",
   "nbconvert_exporter": "python",
   "pygments_lexer": "ipython3",
   "version": "3.11.4"
  }
 },
 "nbformat": 4,
 "nbformat_minor": 5
}
