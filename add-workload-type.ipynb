{
 "cells": [
  {
   "cell_type": "code",
   "execution_count": 1,
   "id": "be36f9bd-3e1e-472f-a1fa-ed358fed10a1",
   "metadata": {
    "tags": []
   },
   "outputs": [
    {
     "name": "stdout",
     "output_type": "stream",
     "text": [
      "Column 'workload_type' added with integer value 1 to all rows. CSV file saved as rseq+workload.csv\n"
     ]
    }
   ],
   "source": [
    "import csv\n",
    "\n",
    "# Define the input and output file paths\n",
    "input_file = 'rseq.csv'\n",
    "output_file = 'rseq+workload.csv'\n",
    "\n",
    "# Open the input and output files\n",
    "with open(input_file, 'r') as csv_infile, open(output_file, 'w', newline='') as csv_outfile:\n",
    "    # Create a CSV reader and writer objects\n",
    "    csv_reader = csv.reader(csv_infile)\n",
    "    csv_writer = csv.writer(csv_outfile)\n",
    "    \n",
    "    # Modify the header row to include the new column name\n",
    "    header = next(csv_reader)\n",
    "    header.append('workload_type')\n",
    "    csv_writer.writerow(header)\n",
    "    \n",
    "    # Add the integer value 1 to all rows in the new column\n",
    "    for row in csv_reader:\n",
    "        row.append(1)  # Use integer '1' instead of '1'\n",
    "        csv_writer.writerow(row)\n",
    "\n",
    "print(f\"Column 'workload_type' added with integer value 1 to all rows. CSV file saved as {output_file}\")\n"
   ]
  },
  {
   "cell_type": "code",
   "execution_count": 3,
   "id": "66a842eb-4d97-40a7-8f01-198abf1486b8",
   "metadata": {
    "tags": []
   },
   "outputs": [
    {
     "name": "stdout",
     "output_type": "stream",
     "text": [
      "Column 'workload_type' added with integer value 1 to all rows. CSV file saved as rrandom+workload.csv\n"
     ]
    }
   ],
   "source": [
    "import csv\n",
    "\n",
    "# Define the input and output file paths\n",
    "input_file = 'rrandom.csv'\n",
    "output_file = 'rrandom+workload.csv'\n",
    "\n",
    "# Open the input and output files\n",
    "with open(input_file, 'r') as csv_infile, open(output_file, 'w', newline='') as csv_outfile:\n",
    "    # Create a CSV reader and writer objects\n",
    "    csv_reader = csv.reader(csv_infile)\n",
    "    csv_writer = csv.writer(csv_outfile)\n",
    "    \n",
    "    # Modify the header row to include the new column name\n",
    "    header = next(csv_reader)\n",
    "    header.append('workload_type')\n",
    "    csv_writer.writerow(header)\n",
    "    \n",
    "    # Add the integer value 1 to all rows in the new column\n",
    "    for row in csv_reader:\n",
    "        row.append(2)  # Use integer '1' instead of '1'\n",
    "        csv_writer.writerow(row)\n",
    "\n",
    "print(f\"Column 'workload_type' added with integer value 1 to all rows. CSV file saved as {output_file}\")\n"
   ]
  },
  {
   "cell_type": "code",
   "execution_count": 4,
   "id": "9b0d91e3-742e-4db5-9dd2-2302a8feb6a5",
   "metadata": {
    "tags": []
   },
   "outputs": [
    {
     "name": "stdout",
     "output_type": "stream",
     "text": [
      "Column 'workload_type' added with integer value 1 to all rows. CSV file saved as rreverse+workload.csv\n"
     ]
    }
   ],
   "source": [
    "import csv\n",
    "\n",
    "# Define the input and output file paths\n",
    "input_file = 'rreverse.csv'\n",
    "output_file = 'rreverse+workload.csv'\n",
    "\n",
    "# Open the input and output files\n",
    "with open(input_file, 'r') as csv_infile, open(output_file, 'w', newline='') as csv_outfile:\n",
    "    # Create a CSV reader and writer objects\n",
    "    csv_reader = csv.reader(csv_infile)\n",
    "    csv_writer = csv.writer(csv_outfile)\n",
    "    \n",
    "    # Modify the header row to include the new column name\n",
    "    header = next(csv_reader)\n",
    "    header.append('workload_type')\n",
    "    csv_writer.writerow(header)\n",
    "    \n",
    "    # Add the integer value 1 to all rows in the new column\n",
    "    for row in csv_reader:\n",
    "        row.append(3)  # Use integer '1' instead of '1'\n",
    "        csv_writer.writerow(row)\n",
    "\n",
    "print(f\"Column 'workload_type' added with integer value 1 to all rows. CSV file saved as {output_file}\")\n"
   ]
  },
  {
   "cell_type": "code",
   "execution_count": 5,
   "id": "9a5e5d14-3c13-4f5f-9f41-53d5810e88f1",
   "metadata": {
    "tags": []
   },
   "outputs": [
    {
     "name": "stdout",
     "output_type": "stream",
     "text": [
      "Column 'workload_type' added with integer value 1 to all rows. CSV file saved as rrwr+workload.csv\n"
     ]
    }
   ],
   "source": [
    "import csv\n",
    "\n",
    "# Define the input and output file paths\n",
    "input_file = 'rrwr.csv'\n",
    "output_file = 'rrwr+workload.csv'\n",
    "\n",
    "# Open the input and output files\n",
    "with open(input_file, 'r') as csv_infile, open(output_file, 'w', newline='') as csv_outfile:\n",
    "    # Create a CSV reader and writer objects\n",
    "    csv_reader = csv.reader(csv_infile)\n",
    "    csv_writer = csv.writer(csv_outfile)\n",
    "    \n",
    "    # Modify the header row to include the new column name\n",
    "    header = next(csv_reader)\n",
    "    header.append('workload_type')\n",
    "    csv_writer.writerow(header)\n",
    "    \n",
    "    # Add the integer value 1 to all rows in the new column\n",
    "    for row in csv_reader:\n",
    "        row.append(4)  # Use integer '1' instead of '1'\n",
    "        csv_writer.writerow(row)\n",
    "\n",
    "print(f\"Column 'workload_type' added with integer value 1 to all rows. CSV file saved as {output_file}\")\n"
   ]
  },
  {
   "cell_type": "code",
   "execution_count": null,
   "id": "3dd08927-b6cb-4cd8-9c0f-24032c4eb99a",
   "metadata": {},
   "outputs": [],
   "source": []
  }
 ],
 "metadata": {
  "kernelspec": {
   "display_name": "Python 3 (ipykernel)",
   "language": "python",
   "name": "python3"
  },
  "language_info": {
   "codemirror_mode": {
    "name": "ipython",
    "version": 3
   },
   "file_extension": ".py",
   "mimetype": "text/x-python",
   "name": "python",
   "nbconvert_exporter": "python",
   "pygments_lexer": "ipython3",
   "version": "3.11.4"
  }
 },
 "nbformat": 4,
 "nbformat_minor": 5
}
